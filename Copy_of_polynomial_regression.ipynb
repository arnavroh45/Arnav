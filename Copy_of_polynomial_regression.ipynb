{
  "nbformat": 4,
  "nbformat_minor": 0,
  "metadata": {
    "colab": {
      "name": "Copy of polynomial_regression.ipynb",
      "provenance": [],
      "collapsed_sections": [],
      "include_colab_link": true
    },
    "kernelspec": {
      "name": "python3",
      "display_name": "Python 3"
    }
  },
  "cells": [
    {
      "cell_type": "markdown",
      "metadata": {
        "id": "view-in-github",
        "colab_type": "text"
      },
      "source": [
        "<a href=\"https://colab.research.google.com/github/arnavroh45/Arnav/blob/master/Copy_of_polynomial_regression.ipynb\" target=\"_parent\"><img src=\"https://colab.research.google.com/assets/colab-badge.svg\" alt=\"Open In Colab\"/></a>"
      ]
    },
    {
      "cell_type": "markdown",
      "metadata": {
        "id": "vN99YjPTDena"
      },
      "source": [
        "# Polynomial Regression"
      ]
    },
    {
      "cell_type": "markdown",
      "metadata": {
        "id": "ZIx_naXnDyHd"
      },
      "source": [
        "## Importing the libraries"
      ]
    },
    {
      "cell_type": "code",
      "metadata": {
        "id": "FjnmdyPLD2tS"
      },
      "source": [
        "import numpy as np\n",
        "import matplotlib.pyplot as plt\n",
        "import pandas as pd"
      ],
      "execution_count": null,
      "outputs": []
    },
    {
      "cell_type": "markdown",
      "metadata": {
        "id": "6c8YExmOD5x5"
      },
      "source": [
        "## Importing the dataset"
      ]
    },
    {
      "cell_type": "code",
      "metadata": {
        "id": "nQOdXhjXD_AE"
      },
      "source": [
        "dataset = pd.read_csv('Position_Salaries.csv')\n",
        "x = dataset.iloc[:, 1:-1].values\n",
        "y = dataset.iloc[:, -1].values"
      ],
      "execution_count": null,
      "outputs": []
    },
    {
      "cell_type": "markdown",
      "metadata": {
        "id": "Le8SEL-YEOLb"
      },
      "source": [
        "## Training the Linear Regression model on the whole dataset"
      ]
    },
    {
      "cell_type": "code",
      "metadata": {
        "id": "2eZ4xxbKEcBk",
        "colab": {
          "base_uri": "https://localhost:8080/"
        },
        "outputId": "066af5ad-a3df-4124-cc0c-3a95f5a5518f"
      },
      "source": [
        "from sklearn.linear_model import LinearRegression\n",
        "linreg = LinearRegression()\n",
        "linreg.fit(x,y)"
      ],
      "execution_count": null,
      "outputs": [
        {
          "output_type": "execute_result",
          "data": {
            "text/plain": [
              "LinearRegression()"
            ]
          },
          "metadata": {},
          "execution_count": 4
        }
      ]
    },
    {
      "cell_type": "markdown",
      "metadata": {
        "id": "Rb5nWuSHEfBV"
      },
      "source": [
        "## Training the Polynomial Regression model on the whole dataset"
      ]
    },
    {
      "cell_type": "code",
      "source": [
        "from sklearn.preprocessing import PolynomialFeatures\n",
        "pf = PolynomialFeatures(degree=2)\n",
        "x_poly=pf.fit_transform(x)\n",
        "linreg2=LinearRegression()\n",
        "linreg2.fit(x_poly,y)\n"
      ],
      "metadata": {
        "id": "K-lCNFxnF6xm",
        "colab": {
          "base_uri": "https://localhost:8080/"
        },
        "outputId": "4a9903ea-61ce-4587-9b20-38b2498fc3f3"
      },
      "execution_count": null,
      "outputs": [
        {
          "output_type": "execute_result",
          "data": {
            "text/plain": [
              "LinearRegression()"
            ]
          },
          "metadata": {},
          "execution_count": 13
        }
      ]
    },
    {
      "cell_type": "markdown",
      "metadata": {
        "id": "0O8R0tzbEpvy"
      },
      "source": [
        "## Visualising the Linear Regression results"
      ]
    },
    {
      "cell_type": "code",
      "source": [
        "plt.scatter(x,y,color='red')\n",
        "plt.plot(x,linreg.predict(x),color='blue')\n",
        "plt.title('Linear regression')\n",
        "plt.xlabel('position')\n",
        "plt.ylabel('salary')\n",
        "plt.show()"
      ],
      "metadata": {
        "id": "_nYliobhMG3m",
        "colab": {
          "base_uri": "https://localhost:8080/",
          "height": 295
        },
        "outputId": "30172bbf-6adf-4a32-bf0c-02238c1c1d70"
      },
      "execution_count": null,
      "outputs": [
        {
          "output_type": "display_data",
          "data": {
            "text/plain": [
              "<Figure size 432x288 with 1 Axes>"
            ],
            "image/png": "[encoded data removed]"
          },
          "metadata": {
            "needs_background": "light"
          }
        }
      ]
    },
    {
      "cell_type": "markdown",
      "metadata": {
        "id": "stOnSo74E52m"
      },
      "source": [
        "## Visualising the Polynomial Regression results"
      ]
    },
    {
      "cell_type": "code",
      "source": [
        "plt.scatter(x,y,color='red')\n",
        "plt.plot(x,linreg2.predict(x_poly),color='blue')\n",
        "plt.title('Polynomial regression')\n",
        "plt.xlabel('position')\n",
        "plt.ylabel('salary')\n",
        "plt.show()"
      ],
      "metadata": {
        "colab": {
          "base_uri": "https://localhost:8080/",
          "height": 295
        },
        "id": "ucxmowxiTZj1",
        "outputId": "d82b07a7-9b13-4d75-c709-8d6225ee420b"
      },
      "execution_count": null,
      "outputs": [
        {
          "output_type": "display_data",
          "data": {
            "text/plain": [
              "<Figure size 432x288 with 1 Axes>"
            ],
            "image/png": "[encoded data removed]"
          },
          "metadata": {
            "needs_background": "light"
          }
        }
      ]
    },
    {
      "cell_type": "markdown",
      "metadata": {
        "id": "U_qsAMKnE-PJ"
      },
      "source": [
        "## Visualising the Polynomial Regression results (for higher resolution and smoother curve)"
      ]
    },
    {
      "cell_type": "code",
      "source": [
        "x_grid=np.arange(min(x),max(x),0.1)\n",
        "x_grid=x_grid.reshape((len(x_grid),1))\n",
        "plt.scatter(x,y,color='red')\n",
        "plt.plot(x_grid,linreg2.predict(pf.fit_transform(x_grid)),color='blue')\n",
        "plt.title('Polynomial regression')\n",
        "plt.xlabel('position')\n",
        "plt.ylabel('salary')\n",
        "plt.show()"
      ],
      "metadata": {
        "colab": {
          "base_uri": "https://localhost:8080/",
          "height": 295
        },
        "id": "u7h4--CdvlQf",
        "outputId": "3ada4b65-c739-4717-96f8-904132ab27f7"
      },
      "execution_count": null,
      "outputs": [
        {
          "output_type": "display_data",
          "data": {
            "text/plain": [
              "<Figure size 432x288 with 1 Axes>"
            ],
            "image/png": "[encoded data removed]"
          },
          "metadata": {
            "needs_background": "light"
          }
        }
      ]
    },
    {
      "cell_type": "markdown",
      "metadata": {
        "id": "diyJFZHhFFeK"
      },
      "source": [
        "## Predicting a new result with Linear Regression"
      ]
    },
    {
      "cell_type": "code",
      "source": [
        "(linreg.predict([[6.5]])) #[[]] is the way to represent a 2d array [] represents a list/1d array\n"
      ],
      "metadata": {
        "colab": {
          "base_uri": "https://localhost:8080/"
        },
        "id": "0qNngHNSzEfh",
        "outputId": "883e1c60-7776-4e5c-c37d-939794e97cf2"
      },
      "execution_count": 32,
      "outputs": [
        {
          "output_type": "execute_result",
          "data": {
            "text/plain": [
              "array([330378.78787879])"
            ]
          },
          "metadata": {},
          "execution_count": 32
        }
      ]
    },
    {
      "cell_type": "markdown",
      "metadata": {
        "id": "DW7I7ZVDFNkk"
      },
      "source": [
        "## Predicting a new result with Polynomial Regression"
      ]
    },
    {
      "cell_type": "code",
      "source": [
        "(linreg2.predict(pf.fit_transform([[6.5]])))\n"
      ],
      "metadata": {
        "colab": {
          "base_uri": "https://localhost:8080/"
        },
        "id": "nN16exW23lUy",
        "outputId": "744ab47a-5b46-4307-b509-3a12383a7076"
      },
      "execution_count": 42,
      "outputs": [
        {
          "output_type": "execute_result",
          "data": {
            "text/plain": [
              "array([189498.10606061])"
            ]
          },
          "metadata": {},
          "execution_count": 42
        }
      ]
    }
  ]
}